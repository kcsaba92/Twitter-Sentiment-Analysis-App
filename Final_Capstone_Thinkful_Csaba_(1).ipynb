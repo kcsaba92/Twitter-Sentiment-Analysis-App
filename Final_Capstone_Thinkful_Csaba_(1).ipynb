{
 "cells": [
  {
   "cell_type": "markdown",
   "metadata": {
    "id": "bm1-11_hROKQ"
   },
   "source": [
    "# Prepare dataset"
   ]
  },
  {
   "cell_type": "code",
   "execution_count": 55,
   "metadata": {
    "id": "nmdw0SaEROKV"
   },
   "outputs": [],
   "source": [
    "import pandas as pd\n",
    "import numpy as np\n",
    "import warnings\n",
    "warnings.filterwarnings(\"ignore\")"
   ]
  },
  {
   "cell_type": "code",
   "execution_count": 56,
   "metadata": {
    "id": "Zr8QKFXmROKW"
   },
   "outputs": [],
   "source": [
    "#import data \n",
    "df = pd.read_csv('https://raw.githubusercontent.com/zfz/twitter_corpus/master/full-corpus.csv')"
   ]
  },
  {
   "cell_type": "code",
   "execution_count": 57,
   "metadata": {
    "colab": {
     "base_uri": "https://localhost:8080/",
     "height": 419
    },
    "id": "KzgWyKKcROKW",
    "outputId": "b8c21953-b78c-43f3-ac34-c47886ebca59"
   },
   "outputs": [
    {
     "data": {
      "text/html": [
       "<div>\n",
       "<style scoped>\n",
       "    .dataframe tbody tr th:only-of-type {\n",
       "        vertical-align: middle;\n",
       "    }\n",
       "\n",
       "    .dataframe tbody tr th {\n",
       "        vertical-align: top;\n",
       "    }\n",
       "\n",
       "    .dataframe thead th {\n",
       "        text-align: right;\n",
       "    }\n",
       "</style>\n",
       "<table border=\"1\" class=\"dataframe\">\n",
       "  <thead>\n",
       "    <tr style=\"text-align: right;\">\n",
       "      <th></th>\n",
       "      <th>Topic</th>\n",
       "      <th>Sentiment</th>\n",
       "      <th>TweetId</th>\n",
       "      <th>TweetDate</th>\n",
       "      <th>TweetText</th>\n",
       "    </tr>\n",
       "  </thead>\n",
       "  <tbody>\n",
       "    <tr>\n",
       "      <th>0</th>\n",
       "      <td>apple</td>\n",
       "      <td>positive</td>\n",
       "      <td>126415614616154112</td>\n",
       "      <td>Tue Oct 18 21:53:25 +0000 2011</td>\n",
       "      <td>Now all @Apple has to do is get swype on the i...</td>\n",
       "    </tr>\n",
       "    <tr>\n",
       "      <th>1</th>\n",
       "      <td>apple</td>\n",
       "      <td>positive</td>\n",
       "      <td>126404574230740992</td>\n",
       "      <td>Tue Oct 18 21:09:33 +0000 2011</td>\n",
       "      <td>@Apple will be adding more carrier support to ...</td>\n",
       "    </tr>\n",
       "    <tr>\n",
       "      <th>2</th>\n",
       "      <td>apple</td>\n",
       "      <td>positive</td>\n",
       "      <td>126402758403305474</td>\n",
       "      <td>Tue Oct 18 21:02:20 +0000 2011</td>\n",
       "      <td>Hilarious @youtube video - guy does a duet wit...</td>\n",
       "    </tr>\n",
       "    <tr>\n",
       "      <th>3</th>\n",
       "      <td>apple</td>\n",
       "      <td>positive</td>\n",
       "      <td>126397179614068736</td>\n",
       "      <td>Tue Oct 18 20:40:10 +0000 2011</td>\n",
       "      <td>@RIM you made it too easy for me to switch to ...</td>\n",
       "    </tr>\n",
       "    <tr>\n",
       "      <th>4</th>\n",
       "      <td>apple</td>\n",
       "      <td>positive</td>\n",
       "      <td>126395626979196928</td>\n",
       "      <td>Tue Oct 18 20:34:00 +0000 2011</td>\n",
       "      <td>I just realized that the reason I got into twi...</td>\n",
       "    </tr>\n",
       "    <tr>\n",
       "      <th>...</th>\n",
       "      <td>...</td>\n",
       "      <td>...</td>\n",
       "      <td>...</td>\n",
       "      <td>...</td>\n",
       "      <td>...</td>\n",
       "    </tr>\n",
       "    <tr>\n",
       "      <th>5108</th>\n",
       "      <td>twitter</td>\n",
       "      <td>irrelevant</td>\n",
       "      <td>126855687060987904</td>\n",
       "      <td>Thu Oct 20 03:02:07 +0000 2011</td>\n",
       "      <td>me re copè con #twitter</td>\n",
       "    </tr>\n",
       "    <tr>\n",
       "      <th>5109</th>\n",
       "      <td>twitter</td>\n",
       "      <td>irrelevant</td>\n",
       "      <td>126855171702661120</td>\n",
       "      <td>Thu Oct 20 03:00:04 +0000 2011</td>\n",
       "      <td>Buenas noches genteeee :) #twitter los quieroo...</td>\n",
       "    </tr>\n",
       "    <tr>\n",
       "      <th>5110</th>\n",
       "      <td>twitter</td>\n",
       "      <td>irrelevant</td>\n",
       "      <td>126854999442587648</td>\n",
       "      <td>Thu Oct 20 02:59:23 +0000 2011</td>\n",
       "      <td>#twitter tiene la mala costumbre de ponerce bn...</td>\n",
       "    </tr>\n",
       "    <tr>\n",
       "      <th>5111</th>\n",
       "      <td>twitter</td>\n",
       "      <td>irrelevant</td>\n",
       "      <td>126854818101858304</td>\n",
       "      <td>Thu Oct 20 02:58:40 +0000 2011</td>\n",
       "      <td>Oi @flaviasansi. Muito bem vinda ao meu #Twitt...</td>\n",
       "    </tr>\n",
       "    <tr>\n",
       "      <th>5112</th>\n",
       "      <td>twitter</td>\n",
       "      <td>irrelevant</td>\n",
       "      <td>126854423317188608</td>\n",
       "      <td>Thu Oct 20 02:57:06 +0000 2011</td>\n",
       "      <td>Eles arrastaram os barcos para a praia, deixar...</td>\n",
       "    </tr>\n",
       "  </tbody>\n",
       "</table>\n",
       "<p>5113 rows × 5 columns</p>\n",
       "</div>"
      ],
      "text/plain": [
       "        Topic   Sentiment             TweetId                       TweetDate  \\\n",
       "0       apple    positive  126415614616154112  Tue Oct 18 21:53:25 +0000 2011   \n",
       "1       apple    positive  126404574230740992  Tue Oct 18 21:09:33 +0000 2011   \n",
       "2       apple    positive  126402758403305474  Tue Oct 18 21:02:20 +0000 2011   \n",
       "3       apple    positive  126397179614068736  Tue Oct 18 20:40:10 +0000 2011   \n",
       "4       apple    positive  126395626979196928  Tue Oct 18 20:34:00 +0000 2011   \n",
       "...       ...         ...                 ...                             ...   \n",
       "5108  twitter  irrelevant  126855687060987904  Thu Oct 20 03:02:07 +0000 2011   \n",
       "5109  twitter  irrelevant  126855171702661120  Thu Oct 20 03:00:04 +0000 2011   \n",
       "5110  twitter  irrelevant  126854999442587648  Thu Oct 20 02:59:23 +0000 2011   \n",
       "5111  twitter  irrelevant  126854818101858304  Thu Oct 20 02:58:40 +0000 2011   \n",
       "5112  twitter  irrelevant  126854423317188608  Thu Oct 20 02:57:06 +0000 2011   \n",
       "\n",
       "                                              TweetText  \n",
       "0     Now all @Apple has to do is get swype on the i...  \n",
       "1     @Apple will be adding more carrier support to ...  \n",
       "2     Hilarious @youtube video - guy does a duet wit...  \n",
       "3     @RIM you made it too easy for me to switch to ...  \n",
       "4     I just realized that the reason I got into twi...  \n",
       "...                                                 ...  \n",
       "5108                            me re copè con #twitter  \n",
       "5109  Buenas noches genteeee :) #twitter los quieroo...  \n",
       "5110  #twitter tiene la mala costumbre de ponerce bn...  \n",
       "5111  Oi @flaviasansi. Muito bem vinda ao meu #Twitt...  \n",
       "5112  Eles arrastaram os barcos para a praia, deixar...  \n",
       "\n",
       "[5113 rows x 5 columns]"
      ]
     },
     "execution_count": 57,
     "metadata": {},
     "output_type": "execute_result"
    }
   ],
   "source": [
    "#This data frame is from GitHub, for this project it is an ideal dataset since it has labeled row for sentiments,\n",
    "#and the tweets are about tech Companies\n",
    "df"
   ]
  },
  {
   "cell_type": "code",
   "execution_count": 58,
   "metadata": {
    "colab": {
     "base_uri": "https://localhost:8080/"
    },
    "id": "yLBdTtN4ROKX",
    "outputId": "f2aae849-a09a-4764-9690-bca24bf76698"
   },
   "outputs": [
    {
     "data": {
      "text/plain": [
       "microsoft    1364\n",
       "google       1317\n",
       "twitter      1290\n",
       "apple        1142\n",
       "Name: Topic, dtype: int64"
      ]
     },
     "execution_count": 58,
     "metadata": {},
     "output_type": "execute_result"
    }
   ],
   "source": [
    "#Check how many companies are represented in the dataset\n",
    "df['Topic'].value_counts()"
   ]
  },
  {
   "cell_type": "code",
   "execution_count": 59,
   "metadata": {
    "colab": {
     "base_uri": "https://localhost:8080/"
    },
    "id": "_Q-V9IAkROKY",
    "outputId": "067e0821-97e9-44a6-f9a1-8754e046f33e"
   },
   "outputs": [
    {
     "data": {
      "text/plain": [
       "neutral       2333\n",
       "irrelevant    1689\n",
       "negative       572\n",
       "positive       519\n",
       "Name: Sentiment, dtype: int64"
      ]
     },
     "execution_count": 59,
     "metadata": {},
     "output_type": "execute_result"
    }
   ],
   "source": [
    "#Check how many categories have for sentiments\n",
    "df['Sentiment'].value_counts()"
   ]
  },
  {
   "cell_type": "code",
   "execution_count": 60,
   "metadata": {
    "id": "nMVcigrGROKY"
   },
   "outputs": [],
   "source": [
    "#For this project I will not need \"irrelevant\" tweets, so I filter it out\n",
    "df_filtered = df[df['Sentiment'] != 'irrelevant'] "
   ]
  },
  {
   "cell_type": "code",
   "execution_count": 61,
   "metadata": {
    "colab": {
     "base_uri": "https://localhost:8080/"
    },
    "id": "ON4cPtTIROKY",
    "outputId": "ff8caa61-333d-4902-a03a-1132cf546fcf"
   },
   "outputs": [
    {
     "data": {
      "text/plain": [
       "neutral     2333\n",
       "negative     572\n",
       "positive     519\n",
       "Name: Sentiment, dtype: int64"
      ]
     },
     "execution_count": 61,
     "metadata": {},
     "output_type": "execute_result"
    }
   ],
   "source": [
    "# I have class imbalance, I will deal with that after data cleaning\n",
    "df_filtered['Sentiment'].value_counts()"
   ]
  },
  {
   "cell_type": "markdown",
   "metadata": {
    "id": "_ggdVjKXROKY"
   },
   "source": [
    "# Data cleaning"
   ]
  },
  {
   "cell_type": "code",
   "execution_count": 62,
   "metadata": {
    "colab": {
     "base_uri": "https://localhost:8080/"
    },
    "id": "Lulq6eaLROKZ",
    "outputId": "f0e37028-114b-414e-fdd3-cb5e28808dba"
   },
   "outputs": [
    {
     "name": "stderr",
     "output_type": "stream",
     "text": [
      "[nltk_data] Downloading package stopwords to\n",
      "[nltk_data]     /Users/kristofcsaba/nltk_data...\n",
      "[nltk_data]   Package stopwords is already up-to-date!\n"
     ]
    },
    {
     "data": {
      "text/plain": [
       "True"
      ]
     },
     "execution_count": 62,
     "metadata": {},
     "output_type": "execute_result"
    }
   ],
   "source": [
    "from nltk.corpus import stopwords\n",
    "import re\n",
    "from nltk.stem.porter import PorterStemmer\n",
    "import nltk\n",
    "nltk.download('stopwords')"
   ]
  },
  {
   "cell_type": "code",
   "execution_count": 63,
   "metadata": {
    "id": "TvFS_81oROKZ"
   },
   "outputs": [],
   "source": [
    "stemmer = PorterStemmer()\n",
    "#create functions to remove stopwords, remove mentions\n",
    "def remove_stopwords(input_text):\n",
    "    stopwords_list = stopwords.words('english')\n",
    "    # Some words which might indicate a certain sentiment are kept via a whitelist\n",
    "    whitelist = [\"n't\", \"not\", \"no\"]\n",
    "    words = input_text.split() \n",
    "    clean_words = [word for word in words if (word not in stopwords_list or word in whitelist) and len(word) > 1] \n",
    "    return \" \".join(clean_words) \n",
    "    \n",
    "def remove_mentions(input_text):\n",
    "    return re.sub(r'@\\w+', '', input_text)"
   ]
  },
  {
   "cell_type": "code",
   "execution_count": 64,
   "metadata": {
    "id": "Yx99sAb1ROKZ"
   },
   "outputs": [],
   "source": [
    "df_filtered['TweetText'] = df_filtered['TweetText'].apply(remove_stopwords).apply(remove_mentions)"
   ]
  },
  {
   "cell_type": "code",
   "execution_count": 65,
   "metadata": {},
   "outputs": [
    {
     "data": {
      "text/html": [
       "<div>\n",
       "<style scoped>\n",
       "    .dataframe tbody tr th:only-of-type {\n",
       "        vertical-align: middle;\n",
       "    }\n",
       "\n",
       "    .dataframe tbody tr th {\n",
       "        vertical-align: top;\n",
       "    }\n",
       "\n",
       "    .dataframe thead th {\n",
       "        text-align: right;\n",
       "    }\n",
       "</style>\n",
       "<table border=\"1\" class=\"dataframe\">\n",
       "  <thead>\n",
       "    <tr style=\"text-align: right;\">\n",
       "      <th></th>\n",
       "      <th>Topic</th>\n",
       "      <th>Sentiment</th>\n",
       "      <th>TweetId</th>\n",
       "      <th>TweetDate</th>\n",
       "      <th>TweetText</th>\n",
       "    </tr>\n",
       "  </thead>\n",
       "  <tbody>\n",
       "    <tr>\n",
       "      <th>0</th>\n",
       "      <td>apple</td>\n",
       "      <td>positive</td>\n",
       "      <td>126415614616154112</td>\n",
       "      <td>Tue Oct 18 21:53:25 +0000 2011</td>\n",
       "      <td>Now  get swype iphone crack. Iphone</td>\n",
       "    </tr>\n",
       "    <tr>\n",
       "      <th>1</th>\n",
       "      <td>apple</td>\n",
       "      <td>positive</td>\n",
       "      <td>126404574230740992</td>\n",
       "      <td>Tue Oct 18 21:09:33 +0000 2011</td>\n",
       "      <td>adding carrier support iPhone 4S (just announ...</td>\n",
       "    </tr>\n",
       "    <tr>\n",
       "      <th>2</th>\n",
       "      <td>apple</td>\n",
       "      <td>positive</td>\n",
       "      <td>126402758403305474</td>\n",
       "      <td>Tue Oct 18 21:02:20 +0000 2011</td>\n",
       "      <td>Hilarious  video guy duet  's Siri. Pretty muc...</td>\n",
       "    </tr>\n",
       "    <tr>\n",
       "      <th>3</th>\n",
       "      <td>apple</td>\n",
       "      <td>positive</td>\n",
       "      <td>126397179614068736</td>\n",
       "      <td>Tue Oct 18 20:40:10 +0000 2011</td>\n",
       "      <td>made easy switch  iPhone. See ya!</td>\n",
       "    </tr>\n",
       "    <tr>\n",
       "      <th>4</th>\n",
       "      <td>apple</td>\n",
       "      <td>positive</td>\n",
       "      <td>126395626979196928</td>\n",
       "      <td>Tue Oct 18 20:34:00 +0000 2011</td>\n",
       "      <td>realized reason got twitter ios5 thanks</td>\n",
       "    </tr>\n",
       "  </tbody>\n",
       "</table>\n",
       "</div>"
      ],
      "text/plain": [
       "   Topic Sentiment             TweetId                       TweetDate  \\\n",
       "0  apple  positive  126415614616154112  Tue Oct 18 21:53:25 +0000 2011   \n",
       "1  apple  positive  126404574230740992  Tue Oct 18 21:09:33 +0000 2011   \n",
       "2  apple  positive  126402758403305474  Tue Oct 18 21:02:20 +0000 2011   \n",
       "3  apple  positive  126397179614068736  Tue Oct 18 20:40:10 +0000 2011   \n",
       "4  apple  positive  126395626979196928  Tue Oct 18 20:34:00 +0000 2011   \n",
       "\n",
       "                                           TweetText  \n",
       "0                Now  get swype iphone crack. Iphone  \n",
       "1   adding carrier support iPhone 4S (just announ...  \n",
       "2  Hilarious  video guy duet  's Siri. Pretty muc...  \n",
       "3                  made easy switch  iPhone. See ya!  \n",
       "4           realized reason got twitter ios5 thanks   "
      ]
     },
     "execution_count": 65,
     "metadata": {},
     "output_type": "execute_result"
    }
   ],
   "source": [
    "df_filtered.head()"
   ]
  },
  {
   "cell_type": "code",
   "execution_count": 66,
   "metadata": {
    "id": "YflP-PLCROKZ"
   },
   "outputs": [],
   "source": [
    "#create functions to stem the words and normalize text\n",
    "def stemList(wordList):\n",
    "    stemmed = []\n",
    "    for word in wordList:\n",
    "        stemmedword = stemmer.stem(word)\n",
    "        stemmed.append(stemmedword)\n",
    "    return stemmed\n",
    "\n",
    "def normalize(pref):\n",
    "    pref = pref.lower()\n",
    "    word_delimiters = u'[\\\\[\\\\]\\n.!?,;:\\t\\\\-\\\\\"\\\\(\\\\)\\\\\\'\\u2019\\u2013 ]'\n",
    "    prefList = re.split(word_delimiters, pref)\n",
    "    trimmed = [x.rstrip() for x in prefList]\n",
    "    stemmed = stemList(trimmed)\n",
    "    space = ' '\n",
    "    normed = space.join(stemmed)\n",
    "    normed = normed.replace('  ', ' ')\n",
    "    return normed"
   ]
  },
  {
   "cell_type": "code",
   "execution_count": 67,
   "metadata": {
    "id": "Sbrk4U1iROKa"
   },
   "outputs": [],
   "source": [
    "df_filtered['normalized'] = df_filtered['TweetText'].apply(normalize)"
   ]
  },
  {
   "cell_type": "code",
   "execution_count": 68,
   "metadata": {
    "colab": {
     "base_uri": "https://localhost:8080/"
    },
    "id": "pbWSLDxgROKa",
    "outputId": "b2374dda-83a0-4e74-b8cc-a61e7193b18a"
   },
   "outputs": [
    {
     "data": {
      "text/plain": [
       "0                         now get swype iphon crack iphon\n",
       "1               ad carrier support iphon 4s just announc \n",
       "2       hilari video guy duet  s siri pretti much sum ...\n",
       "3                          made easi switch iphon see ya \n",
       "4                   realiz reason got twitter ios5 thank \n",
       "                              ...                        \n",
       "4537     modern day autograph  like way put that #twitter\n",
       "4538    62 way use #twitter busi http //t co/jyxk7okc ...\n",
       "4539    log #facebook on #twitter but think i m bout g...\n",
       "4540             #twitter s dumb like it  hush up justin \n",
       "4541    it s almost 4 20 where bong is pack let s rip ...\n",
       "Name: normalized, Length: 3424, dtype: object"
      ]
     },
     "execution_count": 68,
     "metadata": {},
     "output_type": "execute_result"
    }
   ],
   "source": [
    "df_filtered['normalized']"
   ]
  },
  {
   "cell_type": "code",
   "execution_count": 69,
   "metadata": {
    "colab": {
     "base_uri": "https://localhost:8080/",
     "height": 419
    },
    "id": "l-GVI1XyROKa",
    "outputId": "d44ade54-31b4-435c-d0fd-00e680aeac5b"
   },
   "outputs": [
    {
     "data": {
      "text/html": [
       "<div>\n",
       "<style scoped>\n",
       "    .dataframe tbody tr th:only-of-type {\n",
       "        vertical-align: middle;\n",
       "    }\n",
       "\n",
       "    .dataframe tbody tr th {\n",
       "        vertical-align: top;\n",
       "    }\n",
       "\n",
       "    .dataframe thead th {\n",
       "        text-align: right;\n",
       "    }\n",
       "</style>\n",
       "<table border=\"1\" class=\"dataframe\">\n",
       "  <thead>\n",
       "    <tr style=\"text-align: right;\">\n",
       "      <th></th>\n",
       "      <th>Topic</th>\n",
       "      <th>Sentiment</th>\n",
       "      <th>TweetId</th>\n",
       "      <th>TweetDate</th>\n",
       "      <th>TweetText</th>\n",
       "      <th>normalized</th>\n",
       "    </tr>\n",
       "  </thead>\n",
       "  <tbody>\n",
       "    <tr>\n",
       "      <th>0</th>\n",
       "      <td>apple</td>\n",
       "      <td>positive</td>\n",
       "      <td>126415614616154112</td>\n",
       "      <td>Tue Oct 18 21:53:25 +0000 2011</td>\n",
       "      <td>Now  get swype iphone crack. Iphone</td>\n",
       "      <td>now get swype iphon crack iphon</td>\n",
       "    </tr>\n",
       "    <tr>\n",
       "      <th>1</th>\n",
       "      <td>apple</td>\n",
       "      <td>positive</td>\n",
       "      <td>126404574230740992</td>\n",
       "      <td>Tue Oct 18 21:09:33 +0000 2011</td>\n",
       "      <td>adding carrier support iPhone 4S (just announ...</td>\n",
       "      <td>ad carrier support iphon 4s just announc</td>\n",
       "    </tr>\n",
       "    <tr>\n",
       "      <th>2</th>\n",
       "      <td>apple</td>\n",
       "      <td>positive</td>\n",
       "      <td>126402758403305474</td>\n",
       "      <td>Tue Oct 18 21:02:20 +0000 2011</td>\n",
       "      <td>Hilarious  video guy duet  's Siri. Pretty muc...</td>\n",
       "      <td>hilari video guy duet  s siri pretti much sum ...</td>\n",
       "    </tr>\n",
       "    <tr>\n",
       "      <th>3</th>\n",
       "      <td>apple</td>\n",
       "      <td>positive</td>\n",
       "      <td>126397179614068736</td>\n",
       "      <td>Tue Oct 18 20:40:10 +0000 2011</td>\n",
       "      <td>made easy switch  iPhone. See ya!</td>\n",
       "      <td>made easi switch iphon see ya</td>\n",
       "    </tr>\n",
       "    <tr>\n",
       "      <th>4</th>\n",
       "      <td>apple</td>\n",
       "      <td>positive</td>\n",
       "      <td>126395626979196928</td>\n",
       "      <td>Tue Oct 18 20:34:00 +0000 2011</td>\n",
       "      <td>realized reason got twitter ios5 thanks</td>\n",
       "      <td>realiz reason got twitter ios5 thank</td>\n",
       "    </tr>\n",
       "    <tr>\n",
       "      <th>...</th>\n",
       "      <td>...</td>\n",
       "      <td>...</td>\n",
       "      <td>...</td>\n",
       "      <td>...</td>\n",
       "      <td>...</td>\n",
       "      <td>...</td>\n",
       "    </tr>\n",
       "    <tr>\n",
       "      <th>4537</th>\n",
       "      <td>twitter</td>\n",
       "      <td>neutral</td>\n",
       "      <td>126855838047547392</td>\n",
       "      <td>Thu Oct 20 03:02:43 +0000 2011</td>\n",
       "      <td>'Modern Day Autograph\", like way put that. #t...</td>\n",
       "      <td>modern day autograph  like way put that #twitter</td>\n",
       "    </tr>\n",
       "    <tr>\n",
       "      <th>4538</th>\n",
       "      <td>twitter</td>\n",
       "      <td>neutral</td>\n",
       "      <td>126855191571070976</td>\n",
       "      <td>Thu Oct 20 03:00:09 +0000 2011</td>\n",
       "      <td>62 Ways Use #Twitter Business: http://t.co/jYX...</td>\n",
       "      <td>62 way use #twitter busi http //t co/jyxk7okc ...</td>\n",
       "    </tr>\n",
       "    <tr>\n",
       "      <th>4539</th>\n",
       "      <td>twitter</td>\n",
       "      <td>neutral</td>\n",
       "      <td>126854358817181696</td>\n",
       "      <td>Thu Oct 20 02:56:50 +0000 2011</td>\n",
       "      <td>Log #Facebook On #Twitter But Think i'm bout g...</td>\n",
       "      <td>log #facebook on #twitter but think i m bout g...</td>\n",
       "    </tr>\n",
       "    <tr>\n",
       "      <th>4540</th>\n",
       "      <td>twitter</td>\n",
       "      <td>neutral</td>\n",
       "      <td>126853667738497025</td>\n",
       "      <td>Thu Oct 20 02:54:05 +0000 2011</td>\n",
       "      <td>\"#twitter's dumb, like it.\" Hush up, Justin.</td>\n",
       "      <td>#twitter s dumb like it  hush up justin</td>\n",
       "    </tr>\n",
       "    <tr>\n",
       "      <th>4541</th>\n",
       "      <td>twitter</td>\n",
       "      <td>neutral</td>\n",
       "      <td>126853298996252674</td>\n",
       "      <td>Thu Oct 20 02:52:37 +0000 2011</td>\n",
       "      <td>It's almost 4:20. Where bong? Is packed! Let's...</td>\n",
       "      <td>it s almost 4 20 where bong is pack let s rip ...</td>\n",
       "    </tr>\n",
       "  </tbody>\n",
       "</table>\n",
       "<p>3424 rows × 6 columns</p>\n",
       "</div>"
      ],
      "text/plain": [
       "        Topic Sentiment             TweetId                       TweetDate  \\\n",
       "0       apple  positive  126415614616154112  Tue Oct 18 21:53:25 +0000 2011   \n",
       "1       apple  positive  126404574230740992  Tue Oct 18 21:09:33 +0000 2011   \n",
       "2       apple  positive  126402758403305474  Tue Oct 18 21:02:20 +0000 2011   \n",
       "3       apple  positive  126397179614068736  Tue Oct 18 20:40:10 +0000 2011   \n",
       "4       apple  positive  126395626979196928  Tue Oct 18 20:34:00 +0000 2011   \n",
       "...       ...       ...                 ...                             ...   \n",
       "4537  twitter   neutral  126855838047547392  Thu Oct 20 03:02:43 +0000 2011   \n",
       "4538  twitter   neutral  126855191571070976  Thu Oct 20 03:00:09 +0000 2011   \n",
       "4539  twitter   neutral  126854358817181696  Thu Oct 20 02:56:50 +0000 2011   \n",
       "4540  twitter   neutral  126853667738497025  Thu Oct 20 02:54:05 +0000 2011   \n",
       "4541  twitter   neutral  126853298996252674  Thu Oct 20 02:52:37 +0000 2011   \n",
       "\n",
       "                                              TweetText  \\\n",
       "0                   Now  get swype iphone crack. Iphone   \n",
       "1      adding carrier support iPhone 4S (just announ...   \n",
       "2     Hilarious  video guy duet  's Siri. Pretty muc...   \n",
       "3                     made easy switch  iPhone. See ya!   \n",
       "4              realized reason got twitter ios5 thanks    \n",
       "...                                                 ...   \n",
       "4537   'Modern Day Autograph\", like way put that. #t...   \n",
       "4538  62 Ways Use #Twitter Business: http://t.co/jYX...   \n",
       "4539  Log #Facebook On #Twitter But Think i'm bout g...   \n",
       "4540       \"#twitter's dumb, like it.\" Hush up, Justin.   \n",
       "4541  It's almost 4:20. Where bong? Is packed! Let's...   \n",
       "\n",
       "                                             normalized  \n",
       "0                       now get swype iphon crack iphon  \n",
       "1             ad carrier support iphon 4s just announc   \n",
       "2     hilari video guy duet  s siri pretti much sum ...  \n",
       "3                        made easi switch iphon see ya   \n",
       "4                 realiz reason got twitter ios5 thank   \n",
       "...                                                 ...  \n",
       "4537   modern day autograph  like way put that #twitter  \n",
       "4538  62 way use #twitter busi http //t co/jyxk7okc ...  \n",
       "4539  log #facebook on #twitter but think i m bout g...  \n",
       "4540           #twitter s dumb like it  hush up justin   \n",
       "4541  it s almost 4 20 where bong is pack let s rip ...  \n",
       "\n",
       "[3424 rows x 6 columns]"
      ]
     },
     "execution_count": 69,
     "metadata": {},
     "output_type": "execute_result"
    }
   ],
   "source": [
    "df_filtered"
   ]
  },
  {
   "cell_type": "markdown",
   "metadata": {},
   "source": [
    "# Data exploration"
   ]
  },
  {
   "cell_type": "code",
   "execution_count": 106,
   "metadata": {},
   "outputs": [],
   "source": [
    "# I will create 2 wordclouds to see what are the most frequently used words for postive and negative feedbacks \n",
    "#at Google"
   ]
  },
  {
   "cell_type": "code",
   "execution_count": 97,
   "metadata": {},
   "outputs": [],
   "source": [
    "google_positive_filtered = df_filtered[(df_filtered['Sentiment'] == 'positive') & (df_filtered['Topic'] == 'google')]"
   ]
  },
  {
   "cell_type": "code",
   "execution_count": 102,
   "metadata": {},
   "outputs": [],
   "source": [
    "text_google_positive = google_positive_filtered['normalized'].tolist()"
   ]
  },
  {
   "cell_type": "code",
   "execution_count": 103,
   "metadata": {},
   "outputs": [],
   "source": [
    "doc_google_positive = ' '.join(text_google_positive)"
   ]
  },
  {
   "cell_type": "code",
   "execution_count": 104,
   "metadata": {},
   "outputs": [],
   "source": [
    "from wordcloud import WordCloud"
   ]
  },
  {
   "cell_type": "code",
   "execution_count": 105,
   "metadata": {},
   "outputs": [
    {
     "data": {
      "image/png": "[encoded data removed]",
      "text/plain": [
       "<Figure size 432x288 with 1 Axes>"
      ]
     },
     "metadata": {
      "needs_background": "light"
     },
     "output_type": "display_data"
    }
   ],
   "source": [
    "wordcloud_google_positive = WordCloud().generate(str(doc_google_positive))\n",
    "plt.imshow(wordcloud_google_positive, interpolation='bilinear')\n",
    "plt.axis('off')\n",
    "plt.show()"
   ]
  },
  {
   "cell_type": "markdown",
   "metadata": {},
   "source": [
    "As for positive feedbacks the most commonly used word was google, however ice cream, galaxy, and nexus are also frequently used words in postive feedback for google"
   ]
  },
  {
   "cell_type": "code",
   "execution_count": 96,
   "metadata": {},
   "outputs": [],
   "source": [
    "google_negative_filtered = df_filtered[(df_filtered['Sentiment'] == 'negative') & (df_filtered['Topic'] == 'google')]\n"
   ]
  },
  {
   "cell_type": "code",
   "execution_count": 87,
   "metadata": {},
   "outputs": [],
   "source": [
    "text_google_negative = google_negative_filtered['normalized'].tolist()"
   ]
  },
  {
   "cell_type": "code",
   "execution_count": 91,
   "metadata": {},
   "outputs": [],
   "source": [
    "doc_google_negative = ' '.join(text_google_negative)"
   ]
  },
  {
   "cell_type": "code",
   "execution_count": 93,
   "metadata": {},
   "outputs": [
    {
     "data": {
      "image/png": "[encoded data removed]",
      "text/plain": [
       "<Figure size 432x288 with 1 Axes>"
      ]
     },
     "metadata": {
      "needs_background": "light"
     },
     "output_type": "display_data"
    }
   ],
   "source": [
    "wordcloud_google_negative = WordCloud().generate(str(doc_google_negative))\n",
    "plt.imshow(wordcloud_google_negative, interpolation='bilinear')\n",
    "plt.axis('off')\n",
    "plt.show()"
   ]
  },
  {
   "cell_type": "markdown",
   "metadata": {},
   "source": [
    "As for negative feedback, the most commonly used word is google, but samsung, present, unlock, and phone are also frequently used words in negative google feedbacks"
   ]
  },
  {
   "cell_type": "markdown",
   "metadata": {
    "id": "Axo4y1yPROKa"
   },
   "source": [
    "# Data engineering"
   ]
  },
  {
   "cell_type": "code",
   "execution_count": 15,
   "metadata": {
    "id": "oa3G8SFcROKa"
   },
   "outputs": [],
   "source": [
    "from sklearn.model_selection import train_test_split"
   ]
  },
  {
   "cell_type": "code",
   "execution_count": 16,
   "metadata": {
    "id": "gpuv0ErtROKb"
   },
   "outputs": [],
   "source": [
    "from sklearn.model_selection import train_test_split\n",
    "#Predictor variable is the already normalized tweets\n",
    "X = df_filtered['normalized']\n",
    "#Target variable is the three sentiments: positive, negative, and neutral\n",
    "Y = df_filtered['Sentiment']\n",
    "\n",
    "#Since I have unbalanced target (much more neutral than postive or negative), I will use stratify\n",
    "X_train, X_test, y_train, y_test = train_test_split(X, Y, test_size=0.2, stratify=Y) "
   ]
  },
  {
   "cell_type": "code",
   "execution_count": 17,
   "metadata": {
    "colab": {
     "base_uri": "https://localhost:8080/",
     "height": 253
    },
    "id": "FK6o2mgsROKb",
    "outputId": "9aa63e81-11f6-4647-8fa7-001f505a28d9"
   },
   "outputs": [
    {
     "data": {
      "text/html": [
       "<div>\n",
       "<style scoped>\n",
       "    .dataframe tbody tr th:only-of-type {\n",
       "        vertical-align: middle;\n",
       "    }\n",
       "\n",
       "    .dataframe tbody tr th {\n",
       "        vertical-align: top;\n",
       "    }\n",
       "\n",
       "    .dataframe thead th {\n",
       "        text-align: right;\n",
       "    }\n",
       "</style>\n",
       "<table border=\"1\" class=\"dataframe\">\n",
       "  <thead>\n",
       "    <tr style=\"text-align: right;\">\n",
       "      <th></th>\n",
       "      <th>000</th>\n",
       "      <th>00pm</th>\n",
       "      <th>0kcgbmwf</th>\n",
       "      <th>10</th>\n",
       "      <th>100</th>\n",
       "      <th>1000</th>\n",
       "      <th>1000aday</th>\n",
       "      <th>101</th>\n",
       "      <th>1080p</th>\n",
       "      <th>11</th>\n",
       "      <th>...</th>\n",
       "      <th>your</th>\n",
       "      <th>yourself</th>\n",
       "      <th>yousendit</th>\n",
       "      <th>youtub</th>\n",
       "      <th>yr</th>\n",
       "      <th>ytn5ohym</th>\n",
       "      <th>zero</th>\n",
       "      <th>zryndhdi</th>\n",
       "      <th>zuckerberg</th>\n",
       "      <th>zune</th>\n",
       "    </tr>\n",
       "  </thead>\n",
       "  <tbody>\n",
       "    <tr>\n",
       "      <th>0</th>\n",
       "      <td>0.0</td>\n",
       "      <td>0.0</td>\n",
       "      <td>0.0</td>\n",
       "      <td>0.0</td>\n",
       "      <td>0.0</td>\n",
       "      <td>0.0</td>\n",
       "      <td>0.0</td>\n",
       "      <td>0.0</td>\n",
       "      <td>0.0</td>\n",
       "      <td>0.0</td>\n",
       "      <td>...</td>\n",
       "      <td>0.0</td>\n",
       "      <td>0.0</td>\n",
       "      <td>0.0</td>\n",
       "      <td>0.0</td>\n",
       "      <td>0.0</td>\n",
       "      <td>0.0</td>\n",
       "      <td>0.0</td>\n",
       "      <td>0.0</td>\n",
       "      <td>0.0</td>\n",
       "      <td>0.0</td>\n",
       "    </tr>\n",
       "    <tr>\n",
       "      <th>1</th>\n",
       "      <td>0.0</td>\n",
       "      <td>0.0</td>\n",
       "      <td>0.0</td>\n",
       "      <td>0.0</td>\n",
       "      <td>0.0</td>\n",
       "      <td>0.0</td>\n",
       "      <td>0.0</td>\n",
       "      <td>0.0</td>\n",
       "      <td>0.0</td>\n",
       "      <td>0.0</td>\n",
       "      <td>...</td>\n",
       "      <td>0.0</td>\n",
       "      <td>0.0</td>\n",
       "      <td>0.0</td>\n",
       "      <td>0.0</td>\n",
       "      <td>0.0</td>\n",
       "      <td>0.0</td>\n",
       "      <td>0.0</td>\n",
       "      <td>0.0</td>\n",
       "      <td>0.0</td>\n",
       "      <td>0.0</td>\n",
       "    </tr>\n",
       "    <tr>\n",
       "      <th>2</th>\n",
       "      <td>0.0</td>\n",
       "      <td>0.0</td>\n",
       "      <td>0.0</td>\n",
       "      <td>0.0</td>\n",
       "      <td>0.0</td>\n",
       "      <td>0.0</td>\n",
       "      <td>0.0</td>\n",
       "      <td>0.0</td>\n",
       "      <td>0.0</td>\n",
       "      <td>0.0</td>\n",
       "      <td>...</td>\n",
       "      <td>0.0</td>\n",
       "      <td>0.0</td>\n",
       "      <td>0.0</td>\n",
       "      <td>0.0</td>\n",
       "      <td>0.0</td>\n",
       "      <td>0.0</td>\n",
       "      <td>0.0</td>\n",
       "      <td>0.0</td>\n",
       "      <td>0.0</td>\n",
       "      <td>0.0</td>\n",
       "    </tr>\n",
       "    <tr>\n",
       "      <th>3</th>\n",
       "      <td>0.0</td>\n",
       "      <td>0.0</td>\n",
       "      <td>0.0</td>\n",
       "      <td>0.0</td>\n",
       "      <td>0.0</td>\n",
       "      <td>0.0</td>\n",
       "      <td>0.0</td>\n",
       "      <td>0.0</td>\n",
       "      <td>0.0</td>\n",
       "      <td>0.0</td>\n",
       "      <td>...</td>\n",
       "      <td>0.0</td>\n",
       "      <td>0.0</td>\n",
       "      <td>0.0</td>\n",
       "      <td>0.0</td>\n",
       "      <td>0.0</td>\n",
       "      <td>0.0</td>\n",
       "      <td>0.0</td>\n",
       "      <td>0.0</td>\n",
       "      <td>0.0</td>\n",
       "      <td>0.0</td>\n",
       "    </tr>\n",
       "    <tr>\n",
       "      <th>4</th>\n",
       "      <td>0.0</td>\n",
       "      <td>0.0</td>\n",
       "      <td>0.0</td>\n",
       "      <td>0.0</td>\n",
       "      <td>0.0</td>\n",
       "      <td>0.0</td>\n",
       "      <td>0.0</td>\n",
       "      <td>0.0</td>\n",
       "      <td>0.0</td>\n",
       "      <td>0.0</td>\n",
       "      <td>...</td>\n",
       "      <td>0.0</td>\n",
       "      <td>0.0</td>\n",
       "      <td>0.0</td>\n",
       "      <td>0.0</td>\n",
       "      <td>0.0</td>\n",
       "      <td>0.0</td>\n",
       "      <td>0.0</td>\n",
       "      <td>0.0</td>\n",
       "      <td>0.0</td>\n",
       "      <td>0.0</td>\n",
       "    </tr>\n",
       "  </tbody>\n",
       "</table>\n",
       "<p>5 rows × 2253 columns</p>\n",
       "</div>"
      ],
      "text/plain": [
       "   000  00pm  0kcgbmwf   10  100  1000  1000aday  101  1080p   11  ...  your  \\\n",
       "0  0.0   0.0       0.0  0.0  0.0   0.0       0.0  0.0    0.0  0.0  ...   0.0   \n",
       "1  0.0   0.0       0.0  0.0  0.0   0.0       0.0  0.0    0.0  0.0  ...   0.0   \n",
       "2  0.0   0.0       0.0  0.0  0.0   0.0       0.0  0.0    0.0  0.0  ...   0.0   \n",
       "3  0.0   0.0       0.0  0.0  0.0   0.0       0.0  0.0    0.0  0.0  ...   0.0   \n",
       "4  0.0   0.0       0.0  0.0  0.0   0.0       0.0  0.0    0.0  0.0  ...   0.0   \n",
       "\n",
       "   yourself  yousendit  youtub   yr  ytn5ohym  zero  zryndhdi  zuckerberg  \\\n",
       "0       0.0        0.0     0.0  0.0       0.0   0.0       0.0         0.0   \n",
       "1       0.0        0.0     0.0  0.0       0.0   0.0       0.0         0.0   \n",
       "2       0.0        0.0     0.0  0.0       0.0   0.0       0.0         0.0   \n",
       "3       0.0        0.0     0.0  0.0       0.0   0.0       0.0         0.0   \n",
       "4       0.0        0.0     0.0  0.0       0.0   0.0       0.0         0.0   \n",
       "\n",
       "   zune  \n",
       "0   0.0  \n",
       "1   0.0  \n",
       "2   0.0  \n",
       "3   0.0  \n",
       "4   0.0  \n",
       "\n",
       "[5 rows x 2253 columns]"
      ]
     },
     "execution_count": 17,
     "metadata": {},
     "output_type": "execute_result"
    }
   ],
   "source": [
    "from sklearn.feature_extraction.text import TfidfVectorizer\n",
    "\n",
    "vectorizer = TfidfVectorizer(\n",
    "    max_df=0.5, min_df=2, use_idf=True, norm=u'l2', smooth_idf=True)\n",
    "\n",
    "\n",
    "# Applying the vectorizer on my training data\n",
    "X = vectorizer.fit_transform(X_train)\n",
    "\n",
    "X_train_tfidf = pd.DataFrame(X.toarray(), columns=vectorizer.get_feature_names())\n",
    "\n",
    "X_train_tfidf.head()"
   ]
  },
  {
   "cell_type": "code",
   "execution_count": 18,
   "metadata": {
    "colab": {
     "base_uri": "https://localhost:8080/",
     "height": 253
    },
    "id": "2NCrCHrDROKc",
    "outputId": "67db4929-af84-4230-a01b-0d4698f5d5e1"
   },
   "outputs": [
    {
     "data": {
      "text/html": [
       "<div>\n",
       "<style scoped>\n",
       "    .dataframe tbody tr th:only-of-type {\n",
       "        vertical-align: middle;\n",
       "    }\n",
       "\n",
       "    .dataframe tbody tr th {\n",
       "        vertical-align: top;\n",
       "    }\n",
       "\n",
       "    .dataframe thead th {\n",
       "        text-align: right;\n",
       "    }\n",
       "</style>\n",
       "<table border=\"1\" class=\"dataframe\">\n",
       "  <thead>\n",
       "    <tr style=\"text-align: right;\">\n",
       "      <th></th>\n",
       "      <th>000</th>\n",
       "      <th>00pm</th>\n",
       "      <th>0kcgbmwf</th>\n",
       "      <th>10</th>\n",
       "      <th>100</th>\n",
       "      <th>1000</th>\n",
       "      <th>1000aday</th>\n",
       "      <th>101</th>\n",
       "      <th>1080p</th>\n",
       "      <th>11</th>\n",
       "      <th>...</th>\n",
       "      <th>your</th>\n",
       "      <th>yourself</th>\n",
       "      <th>yousendit</th>\n",
       "      <th>youtub</th>\n",
       "      <th>yr</th>\n",
       "      <th>ytn5ohym</th>\n",
       "      <th>zero</th>\n",
       "      <th>zryndhdi</th>\n",
       "      <th>zuckerberg</th>\n",
       "      <th>zune</th>\n",
       "    </tr>\n",
       "  </thead>\n",
       "  <tbody>\n",
       "    <tr>\n",
       "      <th>0</th>\n",
       "      <td>0.0</td>\n",
       "      <td>0.0</td>\n",
       "      <td>0.0</td>\n",
       "      <td>0.0</td>\n",
       "      <td>0.0</td>\n",
       "      <td>0.0</td>\n",
       "      <td>0.0</td>\n",
       "      <td>0.0</td>\n",
       "      <td>0.0</td>\n",
       "      <td>0.0</td>\n",
       "      <td>...</td>\n",
       "      <td>0.0</td>\n",
       "      <td>0.0</td>\n",
       "      <td>0.0</td>\n",
       "      <td>0.0</td>\n",
       "      <td>0.0</td>\n",
       "      <td>0.0</td>\n",
       "      <td>0.0</td>\n",
       "      <td>0.0</td>\n",
       "      <td>0.0</td>\n",
       "      <td>0.0</td>\n",
       "    </tr>\n",
       "    <tr>\n",
       "      <th>1</th>\n",
       "      <td>0.0</td>\n",
       "      <td>0.0</td>\n",
       "      <td>0.0</td>\n",
       "      <td>0.0</td>\n",
       "      <td>0.0</td>\n",
       "      <td>0.0</td>\n",
       "      <td>0.0</td>\n",
       "      <td>0.0</td>\n",
       "      <td>0.0</td>\n",
       "      <td>0.0</td>\n",
       "      <td>...</td>\n",
       "      <td>0.0</td>\n",
       "      <td>0.0</td>\n",
       "      <td>0.0</td>\n",
       "      <td>0.0</td>\n",
       "      <td>0.0</td>\n",
       "      <td>0.0</td>\n",
       "      <td>0.0</td>\n",
       "      <td>0.0</td>\n",
       "      <td>0.0</td>\n",
       "      <td>0.0</td>\n",
       "    </tr>\n",
       "    <tr>\n",
       "      <th>2</th>\n",
       "      <td>0.0</td>\n",
       "      <td>0.0</td>\n",
       "      <td>0.0</td>\n",
       "      <td>0.0</td>\n",
       "      <td>0.0</td>\n",
       "      <td>0.0</td>\n",
       "      <td>0.0</td>\n",
       "      <td>0.0</td>\n",
       "      <td>0.0</td>\n",
       "      <td>0.0</td>\n",
       "      <td>...</td>\n",
       "      <td>0.0</td>\n",
       "      <td>0.0</td>\n",
       "      <td>0.0</td>\n",
       "      <td>0.0</td>\n",
       "      <td>0.0</td>\n",
       "      <td>0.0</td>\n",
       "      <td>0.0</td>\n",
       "      <td>0.0</td>\n",
       "      <td>0.0</td>\n",
       "      <td>0.0</td>\n",
       "    </tr>\n",
       "    <tr>\n",
       "      <th>3</th>\n",
       "      <td>0.0</td>\n",
       "      <td>0.0</td>\n",
       "      <td>0.0</td>\n",
       "      <td>0.0</td>\n",
       "      <td>0.0</td>\n",
       "      <td>0.0</td>\n",
       "      <td>0.0</td>\n",
       "      <td>0.0</td>\n",
       "      <td>0.0</td>\n",
       "      <td>0.0</td>\n",
       "      <td>...</td>\n",
       "      <td>0.0</td>\n",
       "      <td>0.0</td>\n",
       "      <td>0.0</td>\n",
       "      <td>0.0</td>\n",
       "      <td>0.0</td>\n",
       "      <td>0.0</td>\n",
       "      <td>0.0</td>\n",
       "      <td>0.0</td>\n",
       "      <td>0.0</td>\n",
       "      <td>0.0</td>\n",
       "    </tr>\n",
       "    <tr>\n",
       "      <th>4</th>\n",
       "      <td>0.0</td>\n",
       "      <td>0.0</td>\n",
       "      <td>0.0</td>\n",
       "      <td>0.0</td>\n",
       "      <td>0.0</td>\n",
       "      <td>0.0</td>\n",
       "      <td>0.0</td>\n",
       "      <td>0.0</td>\n",
       "      <td>0.0</td>\n",
       "      <td>0.0</td>\n",
       "      <td>...</td>\n",
       "      <td>0.0</td>\n",
       "      <td>0.0</td>\n",
       "      <td>0.0</td>\n",
       "      <td>0.0</td>\n",
       "      <td>0.0</td>\n",
       "      <td>0.0</td>\n",
       "      <td>0.0</td>\n",
       "      <td>0.0</td>\n",
       "      <td>0.0</td>\n",
       "      <td>0.0</td>\n",
       "    </tr>\n",
       "  </tbody>\n",
       "</table>\n",
       "<p>5 rows × 2253 columns</p>\n",
       "</div>"
      ],
      "text/plain": [
       "   000  00pm  0kcgbmwf   10  100  1000  1000aday  101  1080p   11  ...  your  \\\n",
       "0  0.0   0.0       0.0  0.0  0.0   0.0       0.0  0.0    0.0  0.0  ...   0.0   \n",
       "1  0.0   0.0       0.0  0.0  0.0   0.0       0.0  0.0    0.0  0.0  ...   0.0   \n",
       "2  0.0   0.0       0.0  0.0  0.0   0.0       0.0  0.0    0.0  0.0  ...   0.0   \n",
       "3  0.0   0.0       0.0  0.0  0.0   0.0       0.0  0.0    0.0  0.0  ...   0.0   \n",
       "4  0.0   0.0       0.0  0.0  0.0   0.0       0.0  0.0    0.0  0.0  ...   0.0   \n",
       "\n",
       "   yourself  yousendit  youtub   yr  ytn5ohym  zero  zryndhdi  zuckerberg  \\\n",
       "0       0.0        0.0     0.0  0.0       0.0   0.0       0.0         0.0   \n",
       "1       0.0        0.0     0.0  0.0       0.0   0.0       0.0         0.0   \n",
       "2       0.0        0.0     0.0  0.0       0.0   0.0       0.0         0.0   \n",
       "3       0.0        0.0     0.0  0.0       0.0   0.0       0.0         0.0   \n",
       "4       0.0        0.0     0.0  0.0       0.0   0.0       0.0         0.0   \n",
       "\n",
       "   zune  \n",
       "0   0.0  \n",
       "1   0.0  \n",
       "2   0.0  \n",
       "3   0.0  \n",
       "4   0.0  \n",
       "\n",
       "[5 rows x 2253 columns]"
      ]
     },
     "execution_count": 18,
     "metadata": {},
     "output_type": "execute_result"
    }
   ],
   "source": [
    "# Applying the vectorizer on test data, only use transform\n",
    "X = vectorizer.transform(X_test)\n",
    "\n",
    "X_test_tfidf = pd.DataFrame(X.toarray(), columns=vectorizer.get_feature_names())\n",
    "\n",
    "X_test_tfidf.head()"
   ]
  },
  {
   "cell_type": "markdown",
   "metadata": {
    "id": "tdONBgWhROKc"
   },
   "source": [
    "# Apply machine learning models"
   ]
  },
  {
   "cell_type": "code",
   "execution_count": 107,
   "metadata": {},
   "outputs": [],
   "source": [
    "# I will use 4 classifier algorithms to predict the sentiment of the text"
   ]
  },
  {
   "cell_type": "code",
   "execution_count": 19,
   "metadata": {
    "colab": {
     "base_uri": "https://localhost:8080/"
    },
    "id": "Q1uT0KTjROKc",
    "outputId": "9d5fc4e9-ae5d-45db-a018-8f09875aa2ed"
   },
   "outputs": [
    {
     "name": "stdout",
     "output_type": "stream",
     "text": [
      "----------------------Logistic Regression Scores----------------------\n",
      "Training set score: 0.8433734939759037\n",
      "\n",
      "Test set score: 0.762043795620438\n",
      "----------------------Random Forest Scores----------------------\n",
      "Training set score: 0.9956188389923329\n",
      "\n",
      "Test set score: 0.7751824817518248\n",
      "----------------------Gradient Boosting Scores----------------------\n",
      "Training set score: 0.8152610441767069\n",
      "\n",
      "Test set score: 0.7401459854014598\n",
      "----------------------Multinomial Naive Bayes----------------------\n",
      "Training set score: 0.7513691128148959\n",
      "\n",
      "Test set score: 0.7226277372262774\n"
     ]
    }
   ],
   "source": [
    "from sklearn.linear_model import LogisticRegression\n",
    "from sklearn.ensemble import RandomForestClassifier, GradientBoostingClassifier\n",
    "from sklearn.naive_bayes import MultinomialNB\n",
    "\n",
    "\n",
    "# Models\n",
    "lr = LogisticRegression()\n",
    "rfc = RandomForestClassifier()\n",
    "gbc = GradientBoostingClassifier()\n",
    "nb = MultinomialNB()\n",
    "\n",
    "#Fitting the model on training data\n",
    "lr.fit(X_train_tfidf, y_train)\n",
    "rfc.fit(X_train_tfidf, y_train)\n",
    "gbc.fit(X_train_tfidf, y_train)\n",
    "nb.fit(X_train_tfidf, y_train)\n",
    "\n",
    "print(\"----------------------Logistic Regression Scores----------------------\")\n",
    "print('Training set score:', lr.score(X_train_tfidf, y_train))\n",
    "print('\\nTest set score:', lr.score(X_test_tfidf, y_test))\n",
    "\n",
    "print(\"----------------------Random Forest Scores----------------------\")\n",
    "print('Training set score:', rfc.score(X_train_tfidf, y_train))\n",
    "print('\\nTest set score:', rfc.score(X_test_tfidf, y_test))\n",
    "\n",
    "print(\"----------------------Gradient Boosting Scores----------------------\")\n",
    "print('Training set score:', gbc.score(X_train_tfidf, y_train))\n",
    "print('\\nTest set score:', gbc.score(X_test_tfidf, y_test))\n",
    "\n",
    "print(\"----------------------Multinomial Naive Bayes----------------------\")\n",
    "print('Training set score:', nb.score(X_train_tfidf, y_train))\n",
    "print('\\nTest set score:', nb.score(X_test_tfidf, y_test))"
   ]
  },
  {
   "cell_type": "markdown",
   "metadata": {
    "id": "hNNiKxPqROKc"
   },
   "source": [
    "The highest test scores are from Random Forest Classifier and Logistic Regression. Logistic Regressrion has less over fitting than Random Forest, but more than Gradient Boosting and Navie Bayes. Further evalutaion needed to determine the best model. "
   ]
  },
  {
   "cell_type": "markdown",
   "metadata": {
    "id": "ClXxpWsuqiY3"
   },
   "source": [
    "# Evaluating Models"
   ]
  },
  {
   "cell_type": "code",
   "execution_count": 108,
   "metadata": {},
   "outputs": [],
   "source": [
    "# The goal is to find the model which produces the highest precision at postive and negative feedback,\n",
    "# beacuse we want to identify as much potiive and negative feedbacks as possible. The reason for that \n",
    "# we want to identify positive and negative beacause they can help organizations to understand what their customer\n",
    "# want and need. "
   ]
  },
  {
   "cell_type": "code",
   "execution_count": 20,
   "metadata": {
    "id": "BNOriIeXfeIH"
   },
   "outputs": [],
   "source": [
    "#import libaries for metrics and for visuals\n",
    "from sklearn.metrics import classification_report, confusion_matrix, plot_confusion_matrix\n",
    "import seaborn as sns\n",
    "import matplotlib.pyplot as plt  "
   ]
  },
  {
   "cell_type": "markdown",
   "metadata": {},
   "source": [
    "## Logistic Regression"
   ]
  },
  {
   "cell_type": "code",
   "execution_count": 21,
   "metadata": {
    "colab": {
     "base_uri": "https://localhost:8080/"
    },
    "id": "DvYhp0G8ihCO",
    "outputId": "200eda19-94fd-4b61-bae6-5536e74d000a"
   },
   "outputs": [
    {
     "data": {
      "text/plain": [
       "array([[ 53,  61,   0],\n",
       "       [ 11, 440,  16],\n",
       "       [  1,  74,  29]])"
      ]
     },
     "execution_count": 21,
     "metadata": {},
     "output_type": "execute_result"
    }
   ],
   "source": [
    "#create a variable to safe a confusion matrix for Logistic Regression\n",
    "cm_lr = confusion_matrix(y_test, lr.predict(X_test_tfidf))\n",
    "\n",
    "cm_lr"
   ]
  },
  {
   "cell_type": "code",
   "execution_count": 22,
   "metadata": {
    "colab": {
     "base_uri": "https://localhost:8080/",
     "height": 332
    },
    "id": "RdW458hooLlw",
    "outputId": "71ac1629-a056-46f6-fb93-c125460cfdb8"
   },
   "outputs": [
    {
     "data": {
      "image/png": "[encoded data removed]",
      "text/plain": [
       "<Figure size 432x288 with 2 Axes>"
      ]
     },
     "metadata": {
      "needs_background": "light"
     },
     "output_type": "display_data"
    },
    {
     "data": {
      "text/plain": [
       "<Figure size 3600x3600 with 0 Axes>"
      ]
     },
     "metadata": {},
     "output_type": "display_data"
    }
   ],
   "source": [
    "#plot confusion matrix\n",
    "ax= plt.subplot()\n",
    "sns.heatmap(cm_lr, annot=True, ax = ax); #annot=True to annotate cells\n",
    "\n",
    "plt.figure(figsize=(50, 50))\n",
    "\n",
    "# labels, title and ticks\n",
    "ax.set_xlabel('Predicted labels');ax.set_ylabel('True labels'); \n",
    "ax.set_title('Confusion Matrix'); \n",
    "ax.xaxis.set_ticklabels(['negative', 'neutral', 'positive']); ax.yaxis.set_ticklabels(['negative', 'neutral', 'positive']);\n",
    "plt.show()"
   ]
  },
  {
   "cell_type": "code",
   "execution_count": 23,
   "metadata": {
    "colab": {
     "base_uri": "https://localhost:8080/"
    },
    "id": "sxkIx6_5gVEO",
    "outputId": "e0be8d1f-7a2e-4ba7-9895-b827fa355600"
   },
   "outputs": [
    {
     "name": "stdout",
     "output_type": "stream",
     "text": [
      "              precision    recall  f1-score   support\n",
      "\n",
      "    negative       0.82      0.46      0.59       114\n",
      "     neutral       0.77      0.94      0.84       467\n",
      "    positive       0.64      0.28      0.39       104\n",
      "\n",
      "    accuracy                           0.76       685\n",
      "   macro avg       0.74      0.56      0.61       685\n",
      "weighted avg       0.76      0.76      0.73       685\n",
      "\n"
     ]
    }
   ],
   "source": [
    "#create a classification report for Logistic Regression\n",
    "print(classification_report(y_test, lr.predict(X_test_tfidf)))"
   ]
  },
  {
   "cell_type": "markdown",
   "metadata": {},
   "source": [
    "Logistic Regression does well overall, however, the precision could be higher"
   ]
  },
  {
   "cell_type": "markdown",
   "metadata": {
    "id": "SEVjfU-ulHvQ"
   },
   "source": [
    "## Random Forest Classifier"
   ]
  },
  {
   "cell_type": "code",
   "execution_count": 33,
   "metadata": {},
   "outputs": [
    {
     "data": {
      "text/plain": [
       "array([[ 59,  55,   0],\n",
       "       [ 12, 436,  19],\n",
       "       [  3,  65,  36]])"
      ]
     },
     "execution_count": 33,
     "metadata": {},
     "output_type": "execute_result"
    }
   ],
   "source": [
    "#create a variable to safe a confusion matrix for Random Forest Classifier\n",
    "cm_rfc = confusion_matrix(y_test, rfc.predict(X_test_tfidf))\n",
    "\n",
    "cm_rfc"
   ]
  },
  {
   "cell_type": "code",
   "execution_count": 34,
   "metadata": {},
   "outputs": [
    {
     "data": {
      "image/png": "[encoded data removed]",
      "text/plain": [
       "<Figure size 432x288 with 2 Axes>"
      ]
     },
     "metadata": {
      "needs_background": "light"
     },
     "output_type": "display_data"
    },
    {
     "data": {
      "text/plain": [
       "<Figure size 3600x3600 with 0 Axes>"
      ]
     },
     "metadata": {},
     "output_type": "display_data"
    }
   ],
   "source": [
    "#plot confusion matrix\n",
    "ax= plt.subplot()\n",
    "sns.heatmap(cm_rfc, annot=True, ax = ax); #annot=True to annotate cells\n",
    "\n",
    "plt.figure(figsize=(50, 50))\n",
    "\n",
    "# labels, title and ticks\n",
    "ax.set_xlabel('Predicted labels');ax.set_ylabel('True labels'); \n",
    "ax.set_title('Confusion Matrix'); \n",
    "ax.xaxis.set_ticklabels(['negative', 'neutral', 'positive']); ax.yaxis.set_ticklabels(['negative', 'neutral', 'positive']);\n",
    "plt.show()"
   ]
  },
  {
   "cell_type": "code",
   "execution_count": 35,
   "metadata": {},
   "outputs": [
    {
     "name": "stdout",
     "output_type": "stream",
     "text": [
      "              precision    recall  f1-score   support\n",
      "\n",
      "    negative       0.80      0.52      0.63       114\n",
      "     neutral       0.78      0.93      0.85       467\n",
      "    positive       0.65      0.35      0.45       104\n",
      "\n",
      "    accuracy                           0.78       685\n",
      "   macro avg       0.75      0.60      0.64       685\n",
      "weighted avg       0.77      0.78      0.75       685\n",
      "\n"
     ]
    }
   ],
   "source": [
    "#create a classification report for Random Forest Classifier\n",
    "print(classification_report(y_test, rfc.predict(X_test_tfidf)))"
   ]
  },
  {
   "cell_type": "markdown",
   "metadata": {},
   "source": [
    "Random Forest Classifier has high f1-scores, but the precision still not as high as I wnated to be"
   ]
  },
  {
   "cell_type": "markdown",
   "metadata": {},
   "source": [
    "## Gradient Boosting"
   ]
  },
  {
   "cell_type": "code",
   "execution_count": 27,
   "metadata": {},
   "outputs": [
    {
     "data": {
      "text/plain": [
       "array([[ 43,  68,   3],\n",
       "       [  6, 442,  19],\n",
       "       [  2,  80,  22]])"
      ]
     },
     "execution_count": 27,
     "metadata": {},
     "output_type": "execute_result"
    }
   ],
   "source": [
    "#create a variable to safe a confusion matrix for Gradient Boosting\n",
    "cm_gbc = confusion_matrix(y_test, gbc.predict(X_test_tfidf))\n",
    "\n",
    "cm_gbc"
   ]
  },
  {
   "cell_type": "code",
   "execution_count": 28,
   "metadata": {},
   "outputs": [
    {
     "data": {
      "image/png": "[encoded data removed]",
      "text/plain": [
       "<Figure size 432x288 with 2 Axes>"
      ]
     },
     "metadata": {
      "needs_background": "light"
     },
     "output_type": "display_data"
    },
    {
     "data": {
      "text/plain": [
       "<Figure size 3600x3600 with 0 Axes>"
      ]
     },
     "metadata": {},
     "output_type": "display_data"
    }
   ],
   "source": [
    "#plot confusion matrix\n",
    "ax= plt.subplot()\n",
    "sns.heatmap(cm_gbc, annot=True, ax = ax); #annot=True to annotate cells\n",
    "\n",
    "plt.figure(figsize=(50, 50))\n",
    "\n",
    "# labels, title and ticks\n",
    "ax.set_xlabel('Predicted labels');ax.set_ylabel('True labels'); \n",
    "ax.set_title('Confusion Matrix'); \n",
    "ax.xaxis.set_ticklabels(['negative', 'neutral', 'positive']); ax.yaxis.set_ticklabels(['negative', 'neutral', 'positive']);\n",
    "plt.show()"
   ]
  },
  {
   "cell_type": "code",
   "execution_count": 29,
   "metadata": {},
   "outputs": [
    {
     "name": "stdout",
     "output_type": "stream",
     "text": [
      "              precision    recall  f1-score   support\n",
      "\n",
      "    negative       0.84      0.38      0.52       114\n",
      "     neutral       0.75      0.95      0.84       467\n",
      "    positive       0.50      0.21      0.30       104\n",
      "\n",
      "    accuracy                           0.74       685\n",
      "   macro avg       0.70      0.51      0.55       685\n",
      "weighted avg       0.73      0.74      0.70       685\n",
      "\n"
     ]
    }
   ],
   "source": [
    "#create a classification report for Gradient Boosting\n",
    "print(classification_report(y_test, gbc.predict(X_test_tfidf)))"
   ]
  },
  {
   "cell_type": "markdown",
   "metadata": {},
   "source": [
    "Gradient Boosting does not do a very good job for this use case"
   ]
  },
  {
   "cell_type": "markdown",
   "metadata": {},
   "source": [
    "## Multinomial Naive Bayes"
   ]
  },
  {
   "cell_type": "code",
   "execution_count": 30,
   "metadata": {},
   "outputs": [
    {
     "data": {
      "text/plain": [
       "array([[ 23,  91,   0],\n",
       "       [  2, 465,   0],\n",
       "       [  0,  97,   7]])"
      ]
     },
     "execution_count": 30,
     "metadata": {},
     "output_type": "execute_result"
    }
   ],
   "source": [
    "#create a variable to safe a confusion matrix for Multinomial Naive Bayes\n",
    "cm_nb = confusion_matrix(y_test, nb.predict(X_test_tfidf))\n",
    "\n",
    "cm_nb"
   ]
  },
  {
   "cell_type": "code",
   "execution_count": 31,
   "metadata": {},
   "outputs": [
    {
     "data": {
      "image/png": "[encoded data removed]",
      "text/plain": [
       "<Figure size 432x288 with 2 Axes>"
      ]
     },
     "metadata": {
      "needs_background": "light"
     },
     "output_type": "display_data"
    },
    {
     "data": {
      "text/plain": [
       "<Figure size 3600x3600 with 0 Axes>"
      ]
     },
     "metadata": {},
     "output_type": "display_data"
    }
   ],
   "source": [
    "#plot confusion matrix\n",
    "ax= plt.subplot()\n",
    "sns.heatmap(cm_nb, annot=True, ax = ax); #annot=True to annotate cells\n",
    "\n",
    "plt.figure(figsize=(50, 50))\n",
    "\n",
    "# labels, title and ticks\n",
    "ax.set_xlabel('Predicted labels');ax.set_ylabel('True labels'); \n",
    "ax.set_title('Confusion Matrix'); \n",
    "ax.xaxis.set_ticklabels(['negative', 'neutral', 'positive']); ax.yaxis.set_ticklabels(['negative', 'neutral', 'positive']);\n",
    "plt.show()"
   ]
  },
  {
   "cell_type": "code",
   "execution_count": 32,
   "metadata": {},
   "outputs": [
    {
     "name": "stdout",
     "output_type": "stream",
     "text": [
      "              precision    recall  f1-score   support\n",
      "\n",
      "    negative       0.92      0.20      0.33       114\n",
      "     neutral       0.71      1.00      0.83       467\n",
      "    positive       1.00      0.07      0.13       104\n",
      "\n",
      "    accuracy                           0.72       685\n",
      "   macro avg       0.88      0.42      0.43       685\n",
      "weighted avg       0.79      0.72      0.64       685\n",
      "\n"
     ]
    }
   ],
   "source": [
    "#create a classification report for Multinomial Naive Bayes\n",
    "print(classification_report(y_test, nb.predict(X_test_tfidf)))"
   ]
  },
  {
   "cell_type": "markdown",
   "metadata": {},
   "source": [
    "Multinomial Naive Bayes has the highest precision for Negative and Positive sentiments. Additonally, in terms of precision Multinomial Naive Bayes perform slightly better for all three classes than any of the other models. For this business case I choose Multinomial Naive Bayes for predicting sentiments from tweet texts."
   ]
  }
 ],
 "metadata": {
  "colab": {
   "name": "Final_Capstone_Thinkful_Csaba (1).ipynb",
   "provenance": []
  },
  "kernelspec": {
   "display_name": "Python 3",
   "language": "python",
   "name": "python3"
  },
  "language_info": {
   "codemirror_mode": {
    "name": "ipython",
    "version": 3
   },
   "file_extension": ".py",
   "mimetype": "text/x-python",
   "name": "python",
   "nbconvert_exporter": "python",
   "pygments_lexer": "ipython3",
   "version": "3.7.6"
  }
 },
 "nbformat": 4,
 "nbformat_minor": 1
}
